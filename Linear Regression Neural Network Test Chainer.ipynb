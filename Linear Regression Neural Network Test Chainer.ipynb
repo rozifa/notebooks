{
 "cells": [
  {
   "cell_type": "code",
   "execution_count": 48,
   "metadata": {
    "collapsed": true
   },
   "outputs": [],
   "source": [
    "#Import Matplotlib and Numpy\n",
    "%matplotlib inline\n",
    "\n",
    "import numpy as np\n",
    "import matplotlib.pyplot as plt"
   ]
  },
  {
   "cell_type": "code",
   "execution_count": 49,
   "metadata": {
    "collapsed": true
   },
   "outputs": [],
   "source": [
    "#Chainer specific packages\n",
    "from chainer import FunctionSet, Variable, optimizers, serializers\n",
    "import chainer.functions as F\n",
    "import chainer.links as L"
   ]
  },
  {
   "cell_type": "code",
   "execution_count": 50,
   "metadata": {
    "collapsed": true
   },
   "outputs": [],
   "source": [
    "# Create 2 chainer variables then sum their squares\n",
    "# and assign this value to the third variable.\n",
    "a = Variable(np.array([3], dtype=np.float32))\n",
    "b = Variable(np.array([4], dtype=np.float32))\n",
    "c = a**2 + b**2"
   ]
  },
  {
   "cell_type": "code",
   "execution_count": 51,
   "metadata": {
    "collapsed": false
   },
   "outputs": [
    {
     "name": "stdout",
     "output_type": "stream",
     "text": [
      "a.data: [ 3.], b.data: [ 4.], c.data: [ 25.]\n"
     ]
    }
   ],
   "source": [
    "# Inspect the values of my variables\n",
    "print(\"a.data: {0}, b.data: {1}, c.data: {2}\".format(a.data, b.data, c.data))"
   ]
  },
  {
   "cell_type": "code",
   "execution_count": 52,
   "metadata": {
    "collapsed": false
   },
   "outputs": [],
   "source": [
    "c.backward()"
   ]
  },
  {
   "cell_type": "code",
   "execution_count": 53,
   "metadata": {
    "collapsed": false
   },
   "outputs": [
    {
     "name": "stdout",
     "output_type": "stream",
     "text": [
      "dc/da = [ 6.], dc/db = [ 8.], dc/dc = [ 1.]\n"
     ]
    }
   ],
   "source": [
    "print(\"dc/da = {0}, dc/db = {1}, dc/dc = {2}\".format(a.grad, b.grad, c.grad))"
   ]
  },
  {
   "cell_type": "code",
   "execution_count": 54,
   "metadata": {
    "collapsed": false
   },
   "outputs": [],
   "source": [
    "#I think these should be dc/da = [ 6.], dc/db = [ 8.], dc/dc = [ 1.]\n",
    "# I don't know what I did wrong..."
   ]
  },
  {
   "cell_type": "markdown",
   "metadata": {},
   "source": [
    "1. Generate random lineraly dependent dataset.\n",
    "2. Construct a function to perform a forward pass through the network with a Chainer Link.\n",
    "3. Make a function do the network training. "
   ]
  },
  {
   "cell_type": "code",
   "execution_count": 55,
   "metadata": {
    "collapsed": false
   },
   "outputs": [
    {
     "data": {
      "text/plain": [
       "<matplotlib.text.Text at 0x10ae523d0>"
      ]
     },
     "execution_count": 55,
     "metadata": {},
     "output_type": "execute_result"
    },
    {
     "data": {
      "image/png": "[encoded data removed]",
      "text/plain": [
       "<matplotlib.figure.Figure at 0x10a38f190>"
      ]
     },
     "metadata": {},
     "output_type": "display_data"
    }
   ],
   "source": [
    "# Generate linearly related datasets x and y.\n",
    "\n",
    "x = 30*np.random.rand(1000).astype(np.float32)\n",
    "y = 7*x+10\n",
    "y += 10*np.random.rand(1000).astype(np.float32)\n",
    "\n",
    "plt.scatter(x,y)\n",
    "plt.xlabel('x')\n",
    "plt.ylabel('y')"
   ]
  },
  {
   "cell_type": "code",
   "execution_count": 56,
   "metadata": {
    "collapsed": false
   },
   "outputs": [],
   "source": [
    "# Sets up linear link from one variable to the other.\n",
    "linear_function = L.Linear(1, 1)\n",
    "\n",
    "# Set x and y as chainer variables and reshape them\n",
    "# to give one value at a time.\n",
    "x_var = Variable(x.reshape(1000, -1))\n",
    "y_var = Variable(y.reshape(1000, -1))\n",
    "\n",
    "# Setup optimizer\n",
    "optimizer = optimizers.MomentumSGD(lr = 0.001)\n",
    "optimizer.setup(linear_function)\n",
    "\n",
    "# Define a forward pass function taking data as its input\n",
    "# and outputting a linear function. \n",
    "def linear_forward(data):\n",
    "    return linear_function(data)\n",
    "\n",
    "# Define a training funtion given input data, target, and\n",
    "# number of \"epochs\" to train over\n",
    "# Epochs ~ iterations / full passes through the data\n",
    "def linear_train(train_data, train_target, n_epochs = 200):\n",
    "    for _ in range(n_epochs):\n",
    "        # Get linear result of forward function pass\n",
    "        output = linear_forward(train_data)\n",
    "        \n",
    "        # Calculate the loss between the training data and the target data\n",
    "        loss = F.mean_squared_error(train_target, output)\n",
    "        \n",
    "        # Zero all gradiens before updating them\n",
    "        linear_function.zerograds()\n",
    "        \n",
    "        # Calculate and update gradients\n",
    "        loss.backward()\n",
    "        \n",
    "        # Use optimizer to move parameters of network to values\n",
    "        # which reduce and eventually minimize loss. \n",
    "        optimizer.update()"
   ]
  },
  {
   "cell_type": "code",
   "execution_count": 57,
   "metadata": {
    "collapsed": false
   },
   "outputs": [
    {
     "data": {
      "text/plain": [
       "<matplotlib.text.Text at 0x10b026f90>"
      ]
     },
     "execution_count": 57,
     "metadata": {},
     "output_type": "execute_result"
    },
    {
     "data": {
      "image/png": "[encoded data removed]",
      "text/plain": [
       "<matplotlib.figure.Figure at 0x10b03c210>"
      ]
     },
     "metadata": {},
     "output_type": "display_data"
    }
   ],
   "source": [
    "# Visualize iterations and their resulting linear models \n",
    "\n",
    "plt.scatter(x, y, alpha = 0.5)\n",
    "\n",
    "for i in range(150):\n",
    "    linear_train(x_var, y_var, n_epochs = 5)\n",
    "    y_pred = linear_forward(x_var).data\n",
    "    plt.plot(x, y_pred, color = plt.cm.cool(i/150.), alpha = 0.4, lw = 3)\n",
    "\n",
    "slope = linear_function.W.data[0, 0]\n",
    "intercept = linear_function.b.data[0]\n",
    "plt.title(\"Final Least Squares Regression Line: {0:.3}x + {1:.3}\".format(slope, intercept))\n",
    "plt.xlabel('x')\n",
    "plt.ylabel('y')\n"
   ]
  }
 ],
 "metadata": {
  "kernelspec": {
   "display_name": "Python 2",
   "language": "python",
   "name": "python2"
  },
  "language_info": {
   "codemirror_mode": {
    "name": "ipython",
    "version": 2
   },
   "file_extension": ".py",
   "mimetype": "text/x-python",
   "name": "python",
   "nbconvert_exporter": "python",
   "pygments_lexer": "ipython2",
   "version": "2.7.11"
  }
 },
 "nbformat": 4,
 "nbformat_minor": 0
}
